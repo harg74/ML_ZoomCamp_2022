{
 "cells": [
  {
   "cell_type": "code",
   "execution_count": 1,
   "id": "3ac33007",
   "metadata": {},
   "outputs": [],
   "source": [
    "import pandas as pd\n",
    "import numpy as np\n",
    "\n",
    "from sklearn.model_selection import train_test_split\n",
    "from sklearn.model_selection import KFold\n",
    "\n",
    "from sklearn.feature_extraction import DictVectorizer\n",
    "from sklearn.linear_model import LogisticRegression\n",
    "from sklearn.metrics import roc_auc_score\n",
    "\n",
    "import pickle"
   ]
  },
  {
   "cell_type": "code",
   "execution_count": 2,
   "id": "4d99fed7",
   "metadata": {},
   "outputs": [],
   "source": [
    "df = pd.read_csv('WA_Fn-UseC_-Telco-Customer-Churn.csv')\n",
    "\n",
    "#convert column names to lowercase\n",
    "df.columns = df.columns.str.lower().str.replace(' ', '_')\n",
    "categorical_columns = list(df.dtypes[df.dtypes == 'object'].index)\n",
    "\n",
    "#convert values of all cols to lowercase\n",
    "for col in categorical_columns:\n",
    "    df[col] = df[col].str.lower().str.replace(' ', '_')\n",
    "    \n",
    "df.totalcharges = pd.to_numeric(df.totalcharges, errors='coerce')\n",
    "df.totalcharges = df.totalcharges.fillna(0)\n",
    "df.churn = (df.churn == 'yes').astype(int)"
   ]
  },
  {
   "cell_type": "code",
   "execution_count": 3,
   "id": "05678a7c",
   "metadata": {},
   "outputs": [],
   "source": [
    "df_full_train, df_test = train_test_split(df, test_size=0.2, random_state=1)"
   ]
  },
  {
   "cell_type": "code",
   "execution_count": 4,
   "id": "1120d5fe",
   "metadata": {},
   "outputs": [],
   "source": [
    "numerical = ['tenure', 'monthlycharges', 'totalcharges']\n",
    "\n",
    "categorical = ['gender',\n",
    "               'seniorcitizen',\n",
    "               'partner',\n",
    "               'dependents',\n",
    "               'phoneservice',\n",
    "               'multiplelines',\n",
    "               'internetservice',\n",
    "               'onlinesecurity',\n",
    "               'onlinebackup',\n",
    "               'deviceprotection',\n",
    "               'techsupport',\n",
    "               'streamingtv',\n",
    "               'streamingmovies',\n",
    "               'contract',\n",
    "               'paperlessbilling',\n",
    "               'paymentmethod'\n",
    "              ]"
   ]
  },
  {
   "cell_type": "code",
   "execution_count": 5,
   "id": "6b5973dc",
   "metadata": {},
   "outputs": [],
   "source": [
    "def train(df_train, y_train, C):\n",
    "    dicts = df_train[categorical + numerical].to_dict(orient='records')\n",
    "    \n",
    "    dv = DictVectorizer(sparse=False)\n",
    "    X_train = dv.fit_transform(dicts)\n",
    "    \n",
    "    model = LogisticRegression(C=C, max_iter=1000)\n",
    "    model.fit(X_train, y_train)\n",
    "    \n",
    "    return dv, model"
   ]
  },
  {
   "cell_type": "code",
   "execution_count": 6,
   "id": "69606466",
   "metadata": {},
   "outputs": [],
   "source": [
    "def predict(df, dv, model):\n",
    "    dicts = df[categorical + numerical].to_dict(orient='records')\n",
    "    \n",
    "    X = dv.transform(dicts)\n",
    "    y_pred = model.predict_proba(X)[:,1]\n",
    "    \n",
    "    return y_pred"
   ]
  },
  {
   "cell_type": "code",
   "execution_count": 7,
   "id": "57396d8b",
   "metadata": {},
   "outputs": [],
   "source": [
    "C=1.0\n",
    "n_splits = 5"
   ]
  },
  {
   "cell_type": "code",
   "execution_count": 8,
   "id": "0cac9996",
   "metadata": {},
   "outputs": [
    {
     "name": "stdout",
     "output_type": "stream",
     "text": [
      "C = 1.0, Mean = 0.84, STD = +-0.008\n"
     ]
    }
   ],
   "source": [
    "kfold = KFold(n_splits=n_splits, shuffle=True, random_state=1)\n",
    "\n",
    "scores = []\n",
    "\n",
    "for train_idx, val_idx in kfold.split(df_full_train):\n",
    "    df_train = df_full_train.iloc[train_idx]\n",
    "    df_val = df_full_train.iloc[val_idx]\n",
    "    \n",
    "    y_train = df_train.churn.values\n",
    "    y_val = df_val.churn.values\n",
    "    \n",
    "    dv, model = train(df_train, y_train, C=C)\n",
    "    y_pred = predict(df_val, dv, model)\n",
    "    \n",
    "    auc = roc_auc_score(y_val, y_pred)\n",
    "    scores.append(auc)\n",
    "    \n",
    "print(f'C = {C}, Mean = {np.round(np.mean(scores),3)}, STD = +-{np.round(np.std(scores),3)}')\n",
    "    \n",
    "    "
   ]
  },
  {
   "cell_type": "code",
   "execution_count": 9,
   "id": "08daee71",
   "metadata": {},
   "outputs": [
    {
     "data": {
      "text/plain": [
       "[0.842229827852831,\n",
       " 0.8455854357038802,\n",
       " 0.8311780052177403,\n",
       " 0.8301724275756219,\n",
       " 0.8517500235323648]"
      ]
     },
     "execution_count": 9,
     "metadata": {},
     "output_type": "execute_result"
    }
   ],
   "source": [
    "scores"
   ]
  },
  {
   "cell_type": "code",
   "execution_count": 10,
   "id": "46087055",
   "metadata": {},
   "outputs": [
    {
     "data": {
      "text/plain": [
       "0.8572386167896259"
      ]
     },
     "execution_count": 10,
     "metadata": {},
     "output_type": "execute_result"
    }
   ],
   "source": [
    "y_full_train = df_full_train.churn.values\n",
    "dv, model = train(df_full_train, y_full_train, C=1.0)\n",
    "y_pred = predict(df_test, dv, model)\n",
    "\n",
    "y_test = df_test.churn.values\n",
    "auc = roc_auc_score(y_test, y_pred)\n",
    "auc"
   ]
  },
  {
   "cell_type": "markdown",
   "id": "62b4baa7",
   "metadata": {},
   "source": [
    "#### Saving the Model "
   ]
  },
  {
   "cell_type": "code",
   "execution_count": 11,
   "id": "b1f51eb9",
   "metadata": {},
   "outputs": [
    {
     "data": {
      "text/plain": [
       "'model_1.0.bin'"
      ]
     },
     "execution_count": 11,
     "metadata": {},
     "output_type": "execute_result"
    }
   ],
   "source": [
    "output_file = f'model_{C}.bin'\n",
    "output_file"
   ]
  },
  {
   "cell_type": "code",
   "execution_count": 12,
   "id": "2398a273",
   "metadata": {},
   "outputs": [],
   "source": [
    "f_out = open('output_file', 'wb')\n",
    "pickle.dump((dv, model), f_out)\n",
    "f_out.close()"
   ]
  },
  {
   "cell_type": "code",
   "execution_count": 13,
   "id": "b8824147",
   "metadata": {},
   "outputs": [],
   "source": [
    "with open(output_file, 'wb') as f_out:\n",
    "    pickle.dump((dv, model), f_out)"
   ]
  },
  {
   "cell_type": "markdown",
   "id": "2ca4ed83",
   "metadata": {},
   "source": [
    "#### Load the model"
   ]
  },
  {
   "cell_type": "code",
   "execution_count": 14,
   "id": "c8a1101d",
   "metadata": {},
   "outputs": [],
   "source": [
    "with open(output_file, 'rb') as f_in:\n",
    "    dv, model = pickle.load(f_in)"
   ]
  },
  {
   "cell_type": "code",
   "execution_count": 15,
   "id": "9cee69bf",
   "metadata": {},
   "outputs": [
    {
     "data": {
      "text/plain": [
       "(DictVectorizer(sparse=False), LogisticRegression(max_iter=1000))"
      ]
     },
     "execution_count": 15,
     "metadata": {},
     "output_type": "execute_result"
    }
   ],
   "source": [
    "dv, model"
   ]
  },
  {
   "cell_type": "code",
   "execution_count": 27,
   "id": "b99a890d",
   "metadata": {},
   "outputs": [],
   "source": [
    "customer = {\n",
    "            'gender': 'female',\n",
    "            'seniorcitizen': 0,\n",
    "            'partner': 'yes',\n",
    "            'dependents': 'no',\n",
    "            'phoneservice': 'no',\n",
    "            'multiplelines': 'no',\n",
    "            'internetservice': 'dsl',\n",
    "            'onlinesecurity': 'no',\n",
    "            'onlinebackup': 'yes',\n",
    "            'deviceprotection': 'no',\n",
    "            'techsupport': 'no',\n",
    "            'streamingtv': 'no',\n",
    "            'streamingmovies': 'no',\n",
    "            'contract': 'month-to-month',\n",
    "            'paperlessbilling': 'yes',\n",
    "            'paymentmethod': 'electronic_check',\n",
    "            'tenure': 1,\n",
    "            'monthlycharges': 29.85,\n",
    "            'totalcharges': 29.85,\n",
    "        }"
   ]
  },
  {
   "cell_type": "code",
   "execution_count": 28,
   "id": "5e147c66",
   "metadata": {},
   "outputs": [],
   "source": [
    "#DictVectorizer expects a list of dictionaries\n",
    "X = dv.transform([customer])"
   ]
  },
  {
   "cell_type": "code",
   "execution_count": 29,
   "id": "22b8063a",
   "metadata": {},
   "outputs": [
    {
     "data": {
      "text/plain": [
       "0.5760316935121252"
      ]
     },
     "execution_count": 29,
     "metadata": {},
     "output_type": "execute_result"
    }
   ],
   "source": [
    "model.predict_proba(X)[0,1]"
   ]
  },
  {
   "cell_type": "code",
   "execution_count": null,
   "id": "089c9199",
   "metadata": {},
   "outputs": [],
   "source": []
  }
 ],
 "metadata": {
  "kernelspec": {
   "display_name": "Python 3 (ipykernel)",
   "language": "python",
   "name": "python3"
  },
  "language_info": {
   "codemirror_mode": {
    "name": "ipython",
    "version": 3
   },
   "file_extension": ".py",
   "mimetype": "text/x-python",
   "name": "python",
   "nbconvert_exporter": "python",
   "pygments_lexer": "ipython3",
   "version": "3.9.13"
  }
 },
 "nbformat": 4,
 "nbformat_minor": 5
}
