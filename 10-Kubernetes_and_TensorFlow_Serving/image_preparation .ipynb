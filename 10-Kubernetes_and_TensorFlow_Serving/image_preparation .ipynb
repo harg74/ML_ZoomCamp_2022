{
 "cells": [
  {
   "cell_type": "code",
   "execution_count": 1,
   "id": "e10dcf2c",
   "metadata": {},
   "outputs": [],
   "source": [
    "#pip install grpcio==1.42.0 tensorflow-serving-api==2.7.0\n",
    "#pip install keras-image-helper"
   ]
  },
  {
   "cell_type": "code",
   "execution_count": 2,
   "id": "ca7dde47",
   "metadata": {},
   "outputs": [
    {
     "name": "stderr",
     "output_type": "stream",
     "text": [
      "2022-11-28 21:31:57.743432: I tensorflow/core/platform/cpu_feature_guard.cc:193] This TensorFlow binary is optimized with oneAPI Deep Neural Network Library (oneDNN) to use the following CPU instructions in performance-critical operations:  AVX2 FMA\n",
      "To enable them in other operations, rebuild TensorFlow with the appropriate compiler flags.\n"
     ]
    }
   ],
   "source": [
    "import  grpc\n",
    "\n",
    "import tensorflow as tf\n",
    "\n",
    "from tensorflow_serving.apis import predict_pb2\n",
    "from tensorflow_serving.apis import prediction_service_pb2_grpc\n",
    "\n",
    "from keras_image_helper import create_preprocessor"
   ]
  },
  {
   "cell_type": "code",
   "execution_count": 3,
   "id": "deb1a559",
   "metadata": {},
   "outputs": [],
   "source": [
    "#where our tf-serving service is running. running in localhost inside docker\n",
    "host= 'localhost:8500'\n",
    "\n",
    "#access the previous port, since we are running things locally we can use insecure channel\n",
    "#since it is running in kubernetes (gateway and tf-serving) tf-serving will not be accessible\n",
    "#from the outside\n",
    "channel = grpc.insecure_channel(host)\n",
    "\n",
    "# we will use this channel to connect our predictions service. This prediction service, \n",
    "#is nothing more that tf_serving\n",
    "\n",
    "#invoke remote services, we will be using for communicating with the actual service. \n",
    "stub = prediction_service_pb2_grpc.PredictionServiceStub(channel)"
   ]
  },
  {
   "cell_type": "code",
   "execution_count": 4,
   "id": "42231549",
   "metadata": {},
   "outputs": [],
   "source": [
    "preprocessor = create_preprocessor('xception', target_size=(299, 299))"
   ]
  },
  {
   "cell_type": "code",
   "execution_count": 5,
   "id": "04f7a1ca",
   "metadata": {},
   "outputs": [],
   "source": [
    "url = 'http://bit.ly/mlbookcamp-pants'\n",
    "X = preprocessor.from_url(url)"
   ]
  },
  {
   "cell_type": "code",
   "execution_count": 6,
   "id": "f6cb45ce",
   "metadata": {},
   "outputs": [],
   "source": [
    "def np_to_protobuf(data):\n",
    "    return tf.make_tensor_proto(data, shape=data.shape)"
   ]
  },
  {
   "cell_type": "code",
   "execution_count": 7,
   "id": "203a2dd8",
   "metadata": {},
   "outputs": [],
   "source": [
    "# now we want to send X to prediction service that is running in tf-serving\n",
    "# we also need to prepare the request, is not JSOn format\n",
    "\n",
    "pb_request = predict_pb2.PredictRequest()\n",
    "\n",
    "pb_request.model_spec.name='clothing-model'\n",
    "pb_request.model_spec.signature_name='serving_default'\n",
    "pb_request.inputs['input_8'].CopyFrom(np_to_protobuf(X))"
   ]
  },
  {
   "cell_type": "code",
   "execution_count": 8,
   "id": "2399c02a",
   "metadata": {},
   "outputs": [],
   "source": [
    "pb_response = stub.Predict(pb_request, timeout=20.0)"
   ]
  },
  {
   "cell_type": "code",
   "execution_count": 13,
   "id": "3d1fb1fe",
   "metadata": {},
   "outputs": [],
   "source": [
    "preds = pb_response.outputs['dense_7'].float_val"
   ]
  },
  {
   "cell_type": "code",
   "execution_count": 12,
   "id": "cd1eb52c",
   "metadata": {},
   "outputs": [],
   "source": [
    "classes = [\n",
    "    'dress',\n",
    "    'hat',\n",
    "    'longsleeve',\n",
    "    'outwear',\n",
    "    'pants',\n",
    "    'shirt',\n",
    "    'shoes',\n",
    "    'shorts',\n",
    "    'skirt',\n",
    "    't-shirt'\n",
    "] "
   ]
  },
  {
   "cell_type": "code",
   "execution_count": 14,
   "id": "6aa4e1a7",
   "metadata": {},
   "outputs": [
    {
     "data": {
      "text/plain": [
       "{'dress': -1.8682901859283447,\n",
       " 'hat': -4.761244773864746,\n",
       " 'longsleeve': -2.316983461380005,\n",
       " 'outwear': -1.062570333480835,\n",
       " 'pants': 9.88715934753418,\n",
       " 'shirt': -2.8124334812164307,\n",
       " 'shoes': -3.666282892227173,\n",
       " 'shorts': 3.200361490249634,\n",
       " 'skirt': -2.6023383140563965,\n",
       " 't-shirt': -4.835045337677002}"
      ]
     },
     "execution_count": 14,
     "metadata": {},
     "output_type": "execute_result"
    }
   ],
   "source": [
    "dict(zip(classes, preds))"
   ]
  },
  {
   "cell_type": "code",
   "execution_count": null,
   "id": "64e16b09",
   "metadata": {},
   "outputs": [],
   "source": []
  }
 ],
 "metadata": {
  "kernelspec": {
   "display_name": "Python 3 (ipykernel)",
   "language": "python",
   "name": "python3"
  },
  "language_info": {
   "codemirror_mode": {
    "name": "ipython",
    "version": 3
   },
   "file_extension": ".py",
   "mimetype": "text/x-python",
   "name": "python",
   "nbconvert_exporter": "python",
   "pygments_lexer": "ipython3",
   "version": "3.9.13"
  }
 },
 "nbformat": 4,
 "nbformat_minor": 5
}
