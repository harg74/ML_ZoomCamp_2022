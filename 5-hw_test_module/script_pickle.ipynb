{
 "cells": [
  {
   "cell_type": "code",
   "execution_count": 1,
   "metadata": {},
   "outputs": [],
   "source": [
    "import numpy as np\n",
    "\n",
    "import pickle\n",
    "\n",
    "from sklearn.model_selection import train_test_split\n",
    "from sklearn.model_selection import KFold\n",
    "\n",
    "from sklearn.feature_extraction import DictVectorizer\n",
    "from sklearn.linear_model import LogisticRegression\n",
    "from sklearn.metrics import roc_auc_score"
   ]
  },
  {
   "cell_type": "code",
   "execution_count": 2,
   "metadata": {},
   "outputs": [],
   "source": [
    "#PREFIX=\"https://raw.githubusercontent.com/alexeygrigorev/mlbookcamp-code/master/course-zoomcamp/cohorts/2022/05-deployment/homework\"\n",
    "#!wget $PREFIX/model1.bin\n",
    "#!wget $PREFIX/dv.bin"
   ]
  },
  {
   "cell_type": "code",
   "execution_count": 3,
   "metadata": {},
   "outputs": [],
   "source": [
    "model_file = 'model1.bin'\n",
    "dv_file = 'dv.bin'\n",
    "\n",
    "#with open(model_file, 'rb') as f_in:\n",
    "#    dv, model = pickle.load(f_in)\n",
    "\n",
    "with open(model_file, 'rb') as model_in:\n",
    "    model = pickle.load(model_in)\n",
    "with open(dv_file, 'rb') as dv_in:\n",
    "    dv = pickle.load(dv_in)"
   ]
  },
  {
   "cell_type": "code",
   "execution_count": 4,
   "metadata": {},
   "outputs": [
    {
     "data": {
      "text/plain": [
       "{'churn_probability': 0.16213414434326598, 'churn': False}"
      ]
     },
     "execution_count": 4,
     "metadata": {},
     "output_type": "execute_result"
    }
   ],
   "source": [
    "customer = {\"reports\": 0, \"share\": 0.001694, \"expenditure\": 0.12, \"owner\": \"yes\"}\n",
    "\n",
    "#DictVectorizer expects a list of dictionaries\n",
    "X = dv.transform([customer])\n",
    "y_pred = model.predict_proba(X)[0,1]\n",
    "churn = y_pred >= 0.5\n",
    "\n",
    "result = {\n",
    "    'churn_probability': y_pred, #np float into python float\n",
    "    'churn': churn #np boolean into python boolean\n",
    "}\n",
    "\n",
    "#we return a dictionary that will be converted into a json with jsonify\n",
    "result"
   ]
  },
  {
   "cell_type": "code",
   "execution_count": null,
   "metadata": {},
   "outputs": [],
   "source": []
  }
 ],
 "metadata": {
  "kernelspec": {
   "display_name": "Python 3.10.6 ('5-hw_test_module-EyQ5WMdY')",
   "language": "python",
   "name": "python3"
  },
  "language_info": {
   "codemirror_mode": {
    "name": "ipython",
    "version": 3
   },
   "file_extension": ".py",
   "mimetype": "text/x-python",
   "name": "python",
   "nbconvert_exporter": "python",
   "pygments_lexer": "ipython3",
   "version": "3.10.6"
  },
  "vscode": {
   "interpreter": {
    "hash": "ab4c7828e83b528e86c52e0092c92c6955f013e7ce90c34303b042339fef1b40"
   }
  }
 },
 "nbformat": 4,
 "nbformat_minor": 4
}
